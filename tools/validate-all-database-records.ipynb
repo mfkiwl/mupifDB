{
 "cells": [
  {
   "cell_type": "code",
   "execution_count": 2,
   "id": "3655418e-daac-426e-ba9c-651d01a8c925",
   "metadata": {},
   "outputs": [
    {
     "data": {
      "application/vnd.jupyter.widget-view+json": {
       "model_id": "d99278f29f4949f8b22d985e964f9893",
       "version_major": 2,
       "version_minor": 0
      },
      "text/plain": [
       "Output()"
      ]
     },
     "metadata": {},
     "output_type": "display_data"
    },
    {
     "data": {
      "text/html": [
       "<pre style=\"white-space:pre;overflow-x:auto;line-height:normal;font-family:Menlo,'DejaVu Sans Mono',consolas,'Courier New',monospace\"></pre>\n"
      ],
      "text/plain": []
     },
     "metadata": {},
     "output_type": "display_data"
    },
    {
     "data": {
      "text/html": [
       "<pre style=\"white-space:pre;overflow-x:auto;line-height:normal;font-family:Menlo,'DejaVu Sans Mono',consolas,'Courier New',monospace\">\n",
       "</pre>\n"
      ],
      "text/plain": [
       "\n"
      ]
     },
     "metadata": {},
     "output_type": "display_data"
    }
   ],
   "source": [
    "from pymongo import MongoClient\n",
    "import sshtunnel\n",
    "from bson import ObjectId\n",
    "from rich import print_json\n",
    "from rich.pretty import pprint\n",
    "from rich.progress import track, Progress, TextColumn, BarColumn, TimeElapsedColumn\n",
    "from rich.table import Column\n",
    "import os.path\n",
    "\n",
    "def print_mongo(obj):\n",
    "    obj=obj.copy()\n",
    "    obj['_id']=str(obj['_id'])\n",
    "    print_json(data=obj)\n",
    "\n",
    "import pydantic\n",
    "from mupifDB import models\n",
    "coll2model={\n",
    "    'WorkflowExecutions':models.WorkflowExecution_Model,\n",
    "    'Workflows':models.Workflow_Model,\n",
    "    'UseCases':models.UseCase_Model,\n",
    "    'IOData':models.IODataRecord_Model,\n",
    "    'WorkflowsHistory':models.Workflow_Model,\n",
    "}\n",
    "vpns={'test':'172.24.1.1','musicode':'172.22.2.1','deema':'172.23.1.1','test6':'fd4e:6fb7:b3af::1','sumo':'172.25.1.1','tinnit':'172.26.1.1'}\n",
    "\n",
    "with Progress(TextColumn('[progress.description]{task.description}',table_column=Column(width=20)),TextColumn('{task.completed}/{task.total}',table_column=Column(width=15)),BarColumn(),TimeElapsedColumn()) as progress:\n",
    "    vpn_task=progress.add_task('[orchid1]…',total=len(vpns))\n",
    "    col_task=progress.add_task(' [green]…',start=False)\n",
    "    doc_task=progress.add_task('  [cyan]…',start=False)\n",
    "    for vpn,node in vpns.items():\n",
    "        progress.update(vpn_task,description=f'[orchid1]{vpn}')\n",
    "        progress.update(col_task,description='↳[green]…',start=False)\n",
    "        progress.update(doc_task,description=' ↳[cyan]…',start=False)\n",
    "        with sshtunnel.open_tunnel(\n",
    "            (node,22),\n",
    "            ssh_username='root',\n",
    "            ssh_pkey=os.path.expanduser('~/.ssh/id_rsa'),\n",
    "            remote_bind_address=('localhost',27017),\n",
    "            local_bind_address=('localhost',0),\n",
    "            ssh_config_file=None,\n",
    "        ) as tunnel:\n",
    "            client = MongoClient(f'mongodb://localhost:{tunnel.local_bind_port}')\n",
    "            # local_bind_address=('0.0.0.0', 10022)\n",
    "            db = client.MuPIF\n",
    "            progress.reset(col_task,start=True)\n",
    "            progress.update(col_task,description='↳[green]…',total=len(coll2model),completed=0)\n",
    "            progress.update(doc_task,description=' ↳[cyan]…',complete=None,total=None)\n",
    "            for coll,Model in coll2model.items():\n",
    "                progress.update(col_task,description=f'↳[green]{coll}…')\n",
    "                progress.reset(doc_task,description=' ↳[cyan](querying)…',start=False,refresh=True)\n",
    "                c=db.get_collection(coll)\n",
    "                cursor=c.find()\n",
    "                progress.update(doc_task,total=c.count_documents(filter={}),description=f' ↳[cyan]{coll}')\n",
    "                progress.start_task(doc_task)\n",
    "                for i,obj in enumerate(cursor):\n",
    "                    try: Model.model_validate(obj)\n",
    "                    except pydantic.ValidationError:\n",
    "                        print_mongo(obj)\n",
    "                        raise\n",
    "                    progress.advance(doc_task)\n",
    "                    if vpn=='sumo' and i>10000: break\n",
    "                progress.advance(col_task)\n",
    "        progress.advance(vpn_task)\n",
    "        progress.refresh()\n",
    "                # print(f'{coll}: {i} done')\n"
   ]
  },
  {
   "cell_type": "code",
   "execution_count": null,
   "id": "bde00359-f2d8-49e9-ae82-3ba727c195d6",
   "metadata": {},
   "outputs": [],
   "source": []
  }
 ],
 "metadata": {
  "kernelspec": {
   "display_name": "Python 3 (ipykernel)",
   "language": "python",
   "name": "python3"
  },
  "language_info": {
   "codemirror_mode": {
    "name": "ipython",
    "version": 3
   },
   "file_extension": ".py",
   "mimetype": "text/x-python",
   "name": "python",
   "nbconvert_exporter": "python",
   "pygments_lexer": "ipython3",
   "version": "3.12.3"
  },
  "widgets": {
   "application/vnd.jupyter.widget-state+json": {
    "state": {
     "5a74b4c0c49241b58ce317d384ea3c95": {
      "model_module": "@jupyter-widgets/base",
      "model_module_version": "1.2.0",
      "model_name": "LayoutModel",
      "state": {}
     },
     "992756c2a70d49d2b4e5276562d836c6": {
      "model_module": "@jupyter-widgets/output",
      "model_module_version": "1.0.0",
      "model_name": "OutputModel",
      "state": {
       "layout": "IPY_MODEL_5a74b4c0c49241b58ce317d384ea3c95",
       "outputs": [
        {
         "data": {
          "text/html": "<pre style=\"white-space:pre;overflow-x:auto;line-height:normal;font-family:Menlo,'DejaVu Sans Mono',consolas,'Courier New',monospace\"><span style=\"color: #ff87ff; text-decoration-color: #ff87ff\">tinnit</span>                6/6             <span style=\"color: #729c1f; text-decoration-color: #729c1f\">━━━━━━━━━━━━━━━━━━━━━━━━━━━━━━━━━━━━━━━━</span> <span style=\"color: #808000; text-decoration-color: #808000\">0:00:46</span>\n <span style=\"color: #008000; text-decoration-color: #008000\">WorkflowsHistory…</span>    5/5             <span style=\"color: #729c1f; text-decoration-color: #729c1f\">━━━━━━━━━━━━━━━━━━━━━━━━━━━━━━━━━━━━━━━━</span> <span style=\"color: #808000; text-decoration-color: #808000\">0:00:00</span>\n  <span style=\"color: #008080; text-decoration-color: #008080\">WorkflowsHistory</span>    0/0             <span style=\"color: #729c1f; text-decoration-color: #729c1f\">━━━━━━━━━━━━━━━━━━━━━━━━━━━━━━━━━━━━━━━━</span> <span style=\"color: #808000; text-decoration-color: #808000\">0:00:00</span>\n</pre>\n",
          "text/plain": "\u001b[38;5;213mtinnit\u001b[0m                6/6             \u001b[38;2;114;156;31m━━━━━━━━━━━━━━━━━━━━━━━━━━━━━━━━━━━━━━━━\u001b[0m \u001b[33m0:00:46\u001b[0m\n \u001b[32mWorkflowsHistory…\u001b[0m    5/5             \u001b[38;2;114;156;31m━━━━━━━━━━━━━━━━━━━━━━━━━━━━━━━━━━━━━━━━\u001b[0m \u001b[33m0:00:00\u001b[0m\n  \u001b[36mWorkflowsHistory\u001b[0m    0/0             \u001b[38;2;114;156;31m━━━━━━━━━━━━━━━━━━━━━━━━━━━━━━━━━━━━━━━━\u001b[0m \u001b[33m0:00:00\u001b[0m\n"
         },
         "metadata": {},
         "output_type": "display_data"
        }
       ]
      }
     },
     "d99278f29f4949f8b22d985e964f9893": {
      "model_module": "@jupyter-widgets/output",
      "model_module_version": "1.0.0",
      "model_name": "OutputModel",
      "state": {
       "layout": "IPY_MODEL_dd48a83c1c60481e85e7a86dd2e5feec",
       "outputs": [
        {
         "data": {
          "text/html": "<pre style=\"white-space:pre;overflow-x:auto;line-height:normal;font-family:Menlo,'DejaVu Sans Mono',consolas,'Courier New',monospace\"><span style=\"color: #ff87ff; text-decoration-color: #ff87ff\">tinnit</span>                6/6             <span style=\"color: #729c1f; text-decoration-color: #729c1f\">━━━━━━━━━━━━━━━━━━━━━━━━━━━━━━━━━━━━━━━━</span> <span style=\"color: #808000; text-decoration-color: #808000\">0:00:44</span>\n↳<span style=\"color: #008000; text-decoration-color: #008000\">WorkflowsHistory…</span>    5/5             <span style=\"color: #729c1f; text-decoration-color: #729c1f\">━━━━━━━━━━━━━━━━━━━━━━━━━━━━━━━━━━━━━━━━</span> <span style=\"color: #808000; text-decoration-color: #808000\">0:00:00</span>\n ↳<span style=\"color: #008080; text-decoration-color: #008080\">WorkflowsHistory</span>    0/0             <span style=\"color: #729c1f; text-decoration-color: #729c1f\">━━━━━━━━━━━━━━━━━━━━━━━━━━━━━━━━━━━━━━━━</span> <span style=\"color: #808000; text-decoration-color: #808000\">0:00:00</span>\n</pre>\n",
          "text/plain": "\u001b[38;5;213mtinnit\u001b[0m                6/6             \u001b[38;2;114;156;31m━━━━━━━━━━━━━━━━━━━━━━━━━━━━━━━━━━━━━━━━\u001b[0m \u001b[33m0:00:44\u001b[0m\n↳\u001b[32mWorkflowsHistory…\u001b[0m    5/5             \u001b[38;2;114;156;31m━━━━━━━━━━━━━━━━━━━━━━━━━━━━━━━━━━━━━━━━\u001b[0m \u001b[33m0:00:00\u001b[0m\n ↳\u001b[36mWorkflowsHistory\u001b[0m    0/0             \u001b[38;2;114;156;31m━━━━━━━━━━━━━━━━━━━━━━━━━━━━━━━━━━━━━━━━\u001b[0m \u001b[33m0:00:00\u001b[0m\n"
         },
         "metadata": {},
         "output_type": "display_data"
        }
       ]
      }
     },
     "dd48a83c1c60481e85e7a86dd2e5feec": {
      "model_module": "@jupyter-widgets/base",
      "model_module_version": "1.2.0",
      "model_name": "LayoutModel",
      "state": {}
     }
    },
    "version_major": 2,
    "version_minor": 0
   }
  }
 },
 "nbformat": 4,
 "nbformat_minor": 5
}
