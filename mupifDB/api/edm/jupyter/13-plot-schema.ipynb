{
 "cells": [
  {
   "cell_type": "code",
   "execution_count": 24,
   "id": "57a24d75-64f6-43f9-841a-a8767c116fc0",
   "metadata": {},
   "outputs": [
    {
     "name": "stdout",
     "output_type": "stream",
     "text": [
      "digraph g {\n",
      "   graph [rankdir=\"LR\"];\n",
      "   \"Beam\" [ label = \"<_head> Beam| <cs> cs →| <length> length [m]| <height> height [m]| <density> density [kg/m3]| <bc_0> bc_0 (?) [3]| <bc_1> bc_1 (?) [3]\"; shape=\"record\" ];\n",
      "   \"CrossSection\" [ label = \"<_head> CrossSection| <rve> rve →| <rvePositions> rvePositions [-1×3] [m]\"; shape=\"record\" ];\n",
      "   \"ConcreteRVE\" [ label = \"<_head> ConcreteRVE| <ct> ct →| <origin> origin [3] [m]| <size> size [3] [um]| <materials> materials [-1] →\"; shape=\"record\" ];\n",
      "   \"CTScan\" [ label = \"<_head> CTScan| <id> id (str)| <image> image (bytes)\"; shape=\"record\" ];\n",
      "   \"BeamState\" [ label = \"<_head> BeamState| <beam> beam →| <cs> cs →| <npointz> npointz (i)| <csState> csState [-1] →\"; shape=\"record\" ];\n",
      "   \"CrossSectionState\" [ label = \"<_head> CrossSectionState| <rveStates> rveStates [-1] →| <bendingMoment> bendingMoment [kN*m]| <kappa> kappa| <eps_axial> eps_axial [um/m]\"; shape=\"record\" ];\n",
      "   \"ConcreteRVEState\" [ label = \"<_head> ConcreteRVEState| <rve> rve →| <sigmaHom> sigmaHom [MPa]| <epsHom> epsHom [um/m]| <stiffness> stiffness [MPa]| <eps0hom> eps0hom [um/m]\"; shape=\"record\" ];\n",
      "   \"MaterialRecord\" [ label = \"<_head> MaterialRecord| <name> name (str)| <props> props (object)\"; shape=\"record\" ];\n",
      "\n",
      "   \"Beam\":cs -> \"CrossSection\":_head;\n",
      "   \"CrossSection\":rve -> \"ConcreteRVE\":_head;\n",
      "   \"ConcreteRVE\":ct -> \"CTScan\":_head;\n",
      "   \"ConcreteRVE\":materials -> \"MaterialRecord\":_head;\n",
      "   \"BeamState\":beam -> \"Beam\":_head;\n",
      "   \"BeamState\":cs -> \"CrossSection\":_head;\n",
      "   \"BeamState\":csState -> \"CrossSectionState\":_head;\n",
      "   \"CrossSectionState\":rveStates -> \"ConcreteRVEState\":_head;\n",
      "   \"ConcreteRVEState\":rve -> \"ConcreteRVE\":_head;\n",
      "}\n"
     ]
    }
   ],
   "source": [
    "import json\n",
    "sch=json.loads(open('../dms-schema.json','r').read())\n",
    "\n",
    "graph='digraph g {\\n   graph [rankdir=\"LR\"];\\n'\n",
    "links=[]\n",
    "for klass in sch:\n",
    "    l=f'<_head> {klass}'\n",
    "    for name,sub in sch[klass].items():\n",
    "        shapeStr=(' ['+'×'.join([str(s) for s in sub['shape']])+']') if 'shape' in sub else ''\n",
    "        dtypeStr=(' ('+sub['dtype']+')') if 'dtype' in sub else ''\n",
    "        unitStr=(' ['+sub['unit']+']') if 'unit' in sub else ''\n",
    "        if 'link' in sub:\n",
    "            l+=f'| <{name}> {name}{shapeStr} →'\n",
    "            links.append(f'\"{klass}\":{name} -> \"{sub[\"link\"]}\":_head;')\n",
    "        else:\n",
    "            l+=f'| <{name}> {name}{dtypeStr}{shapeStr}{unitStr}'\n",
    "    graph+=f'   \"{klass}\" [ label = \"{l}\"; shape=\"record\" ];\\n'\n",
    "graph+='\\n   '+'\\n   '.join(links)\n",
    "graph+='\\n}'\n",
    "print(graph)\n",
    "\n"
   ]
  },
  {
   "cell_type": "code",
   "execution_count": null,
   "id": "2123e401-b20c-4b97-b53c-b7384dbc1618",
   "metadata": {},
   "outputs": [],
   "source": []
  }
 ],
 "metadata": {
  "kernelspec": {
   "display_name": "Python 3 (ipykernel)",
   "language": "python",
   "name": "python3"
  },
  "language_info": {
   "codemirror_mode": {
    "name": "ipython",
    "version": 3
   },
   "file_extension": ".py",
   "mimetype": "text/x-python",
   "name": "python",
   "nbconvert_exporter": "python",
   "pygments_lexer": "ipython3",
   "version": "3.10.6"
  }
 },
 "nbformat": 4,
 "nbformat_minor": 5
}
